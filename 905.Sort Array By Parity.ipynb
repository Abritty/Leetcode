{
 "cells": [
  {
   "cell_type": "code",
   "execution_count": 22,
   "metadata": {},
   "outputs": [],
   "source": [
    " def sortArrayByParity(A):\n",
    "        arr1=[]\n",
    "        arr2=[]\n",
    "        for i in range(len(A)):\n",
    "            if(A[i]%2==0):\n",
    "                arr1.append(A[i])\n",
    "            else:\n",
    "                arr2.append(A[i])\n",
    "        arr=arr1+arr2\n",
    "        \n",
    "        return arr\n",
    "                \n",
    "                \n",
    "    \n",
    "   \n",
    "            "
   ]
  },
  {
   "cell_type": "code",
   "execution_count": 25,
   "metadata": {},
   "outputs": [
    {
     "name": "stdout",
     "output_type": "stream",
     "text": [
      "[2, 6, 2, 4, 3, 1, 7, 9]\n",
      "None\n"
     ]
    }
   ],
   "source": [
    "t=[3,1,2,6,7,9,2,4]\n",
    "print(sortArrayByParity(t))"
   ]
  },
  {
   "cell_type": "code",
   "execution_count": null,
   "metadata": {},
   "outputs": [],
   "source": []
  }
 ],
 "metadata": {
  "kernelspec": {
   "display_name": "Python 3",
   "language": "python",
   "name": "python3"
  },
  "language_info": {
   "codemirror_mode": {
    "name": "ipython",
    "version": 3
   },
   "file_extension": ".py",
   "mimetype": "text/x-python",
   "name": "python",
   "nbconvert_exporter": "python",
   "pygments_lexer": "ipython3",
   "version": "3.7.3"
  }
 },
 "nbformat": 4,
 "nbformat_minor": 2
}
