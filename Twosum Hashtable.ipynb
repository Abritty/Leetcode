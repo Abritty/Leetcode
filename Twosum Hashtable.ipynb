{
 "cells": [
  {
   "cell_type": "code",
   "execution_count": 2,
   "metadata": {},
   "outputs": [],
   "source": [
    "def twoSum(nums,target):\n",
    "    if len(nums) <= 1: \n",
    "        return false\n",
    "    \n",
    "    complimentMap = dict()\n",
    "        \n",
    "    for i in range(len(nums)):\n",
    "            num = nums[i]\n",
    "            compliment = target - num\n",
    "            if num in complimentMap:\n",
    "                return [complimentMap[num],i]\n",
    "            else:\n",
    "                complimentMap[compliment] = i   #{7,0}\n",
    "        "
   ]
  },
  {
   "cell_type": "code",
   "execution_count": 3,
   "metadata": {},
   "outputs": [
    {
     "name": "stdout",
     "output_type": "stream",
     "text": [
      "1\n",
      "5\n"
     ]
    }
   ],
   "source": [
    "nums = [6,2,8,1,9,3,4]\n",
    "p,q=twoSum(nums,5)\n",
    "print(p)\n",
    "print(q)\n"
   ]
  },
  {
   "cell_type": "code",
   "execution_count": null,
   "metadata": {},
   "outputs": [],
   "source": []
  }
 ],
 "metadata": {
  "kernelspec": {
   "display_name": "Python 3",
   "language": "python",
   "name": "python3"
  },
  "language_info": {
   "codemirror_mode": {
    "name": "ipython",
    "version": 3
   },
   "file_extension": ".py",
   "mimetype": "text/x-python",
   "name": "python",
   "nbconvert_exporter": "python",
   "pygments_lexer": "ipython3",
   "version": "3.7.3"
  }
 },
 "nbformat": 4,
 "nbformat_minor": 2
}
