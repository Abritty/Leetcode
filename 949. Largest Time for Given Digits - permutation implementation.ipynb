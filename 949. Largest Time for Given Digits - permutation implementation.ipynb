{
 "cells": [
  {
   "cell_type": "code",
   "execution_count": 10,
   "metadata": {},
   "outputs": [],
   "source": [
    "\n",
    "def largestTimeFromDigits(A):\n",
    "\n",
    "        max_time = -1\n",
    "\n",
    "        def build_time(permutation):\n",
    "            nonlocal max_time\n",
    "\n",
    "            h, i, j, k = permutation\n",
    "            hour = h*10 + i\n",
    "            minute = j*10 + k\n",
    "            if hour < 24 and minute < 60:\n",
    "                max_time = max(max_time, hour * 60 + minute)\n",
    "\n",
    "        def swap(array, i, j):\n",
    "            if i != j:\n",
    "                array[i], array[j] = array[j], array[i]\n",
    "\n",
    "        def permutate(array, start):\n",
    "            if start == len(array):\n",
    "                build_time(array)\n",
    "                return\n",
    "\n",
    "            for index in range(start, len(array)):\n",
    "                swap(array, index, start)\n",
    "                # repeat the permutation with the original array mutated\n",
    "                permutate(array, start+1)\n",
    "                swap(array, index, start)\n",
    "\n",
    "        permutate(A, 0)\n",
    "        if max_time == -1:\n",
    "            return \"\"\n",
    "        else:\n",
    "            return \"{:02d}:{:02d}\".format(max_time // 60, max_time % 60)"
   ]
  },
  {
   "cell_type": "code",
   "execution_count": 11,
   "metadata": {},
   "outputs": [
    {
     "data": {
      "text/plain": [
       "'23:59'"
      ]
     },
     "execution_count": 11,
     "metadata": {},
     "output_type": "execute_result"
    }
   ],
   "source": [
    "arr=[2,5,3,9]\n",
    "largestTimeFromDigits(arr)"
   ]
  },
  {
   "cell_type": "code",
   "execution_count": null,
   "metadata": {},
   "outputs": [],
   "source": []
  }
 ],
 "metadata": {
  "kernelspec": {
   "display_name": "Python 3",
   "language": "python",
   "name": "python3"
  },
  "language_info": {
   "codemirror_mode": {
    "name": "ipython",
    "version": 3
   },
   "file_extension": ".py",
   "mimetype": "text/x-python",
   "name": "python",
   "nbconvert_exporter": "python",
   "pygments_lexer": "ipython3",
   "version": "3.7.3"
  }
 },
 "nbformat": 4,
 "nbformat_minor": 2
}
