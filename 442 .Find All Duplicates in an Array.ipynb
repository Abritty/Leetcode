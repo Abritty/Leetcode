{
 "cells": [
  {
   "cell_type": "code",
   "execution_count": 63,
   "metadata": {},
   "outputs": [],
   "source": [
    "def PrintRepeating(nums):\n",
    "    n = len(nums)\n",
    "    s=n+1\n",
    "    a = [0 for x in range(s)] \n",
    "    store=[]\n",
    "    for i in range(n): \n",
    "        a[nums[i]%s] +=1\n",
    "    \n",
    "    #print(a)\n",
    "    for i in range(s):\n",
    "        if(a[i]==2):\n",
    "            store.append(i)\n",
    "            \n",
    "    print(store)\n",
    "    \n",
    "\n",
    "        "
   ]
  },
  {
   "cell_type": "code",
   "execution_count": 64,
   "metadata": {},
   "outputs": [
    {
     "name": "stdout",
     "output_type": "stream",
     "text": [
      "[2]\n"
     ]
    }
   ],
   "source": [
    "arr = [2,7,1,4,1,7,8,2,8]\n",
    "arr1=[4,3,2,7,8,10,2,3,1,10]\n",
    "arr3=[2,2]\n",
    "PrintRepeating(arr3)"
   ]
  },
  {
   "cell_type": "code",
   "execution_count": null,
   "metadata": {},
   "outputs": [],
   "source": []
  }
 ],
 "metadata": {
  "kernelspec": {
   "display_name": "Python 3",
   "language": "python",
   "name": "python3"
  },
  "language_info": {
   "codemirror_mode": {
    "name": "ipython",
    "version": 3
   },
   "file_extension": ".py",
   "mimetype": "text/x-python",
   "name": "python",
   "nbconvert_exporter": "python",
   "pygments_lexer": "ipython3",
   "version": "3.7.3"
  }
 },
 "nbformat": 4,
 "nbformat_minor": 2
}
