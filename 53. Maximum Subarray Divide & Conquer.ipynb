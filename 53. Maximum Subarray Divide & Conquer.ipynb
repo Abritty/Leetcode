{
 "cells": [
  {
   "cell_type": "code",
   "execution_count": 23,
   "metadata": {},
   "outputs": [],
   "source": [
    "# A Divide and Conquer based program \n",
    "# for maximum subarray sum problem \n",
    "\n",
    "# Find the maximum possible sum in \n",
    "# arr[] auch that arr[m] is part of it \n",
    "def maxCrossingSum(arr, l, m, h) : \n",
    "\n",
    "    sm = 0; left_sum = -10000\n",
    "\n",
    "    for i in range(m, l-1, -1) : \n",
    "        sm = sm + arr[i] \n",
    "        if (sm > left_sum) : \n",
    "            left_sum = sm \n",
    "\n",
    "    sm = 0; right_sum = -1000\n",
    "    for i in range(m + 1, h + 1) : \n",
    "        sm = sm + arr[i] \n",
    "        if (sm > right_sum) : \n",
    "            right_sum = sm \n",
    "\n",
    "\n",
    "    return max(left_sum + right_sum, left_sum, right_sum) \n",
    "\n",
    "\n",
    "# Returns sum of maxium sum subarray in aa[l..h] \n",
    "def maxSubArraySum(arr, l, h) : \n",
    "\n",
    "    if (l == h) : \n",
    "        return arr[l] \n",
    "\n",
    " \n",
    "    m = (l + h) // 2\n",
    "\n",
    "    return max(maxSubArraySum(arr, l, m), maxSubArraySum(arr, m+1, h), maxCrossingSum(arr, l, m, h)) \n",
    "\n",
    "\n",
    "def MaxContiguousSubArray(nums):\n",
    "    \n",
    "    return maxSubArraySum(nums,0,len(arr)-1)\n"
   ]
  },
  {
   "cell_type": "code",
   "execution_count": 24,
   "metadata": {},
   "outputs": [
    {
     "name": "stdout",
     "output_type": "stream",
     "text": [
      "Maximum contiguous sum is  29\n"
     ]
    }
   ],
   "source": [
    "# Driver Code \n",
    "arr = [-1,-2,1,2,3,-5,4,5,9,10] \n",
    "#n = len(arr) \n",
    "\n",
    "max_sum = MaxContiguousSubArray(arr)\n",
    "print(\"Maximum contiguous sum is \", max_sum) \n"
   ]
  },
  {
   "cell_type": "code",
   "execution_count": null,
   "metadata": {},
   "outputs": [],
   "source": []
  }
 ],
 "metadata": {
  "kernelspec": {
   "display_name": "Python 3",
   "language": "python",
   "name": "python3"
  },
  "language_info": {
   "codemirror_mode": {
    "name": "ipython",
    "version": 3
   },
   "file_extension": ".py",
   "mimetype": "text/x-python",
   "name": "python",
   "nbconvert_exporter": "python",
   "pygments_lexer": "ipython3",
   "version": "3.7.3"
  }
 },
 "nbformat": 4,
 "nbformat_minor": 2
}
