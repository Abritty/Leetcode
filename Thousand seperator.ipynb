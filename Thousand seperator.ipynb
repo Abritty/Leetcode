{
 "cells": [
  {
   "cell_type": "code",
   "execution_count": 14,
   "metadata": {},
   "outputs": [],
   "source": [
    "def thousandSeparator(n):\n",
    "    \n",
    "    #string=str(n)\n",
    "    #print(string)\n",
    "    #print(f\"{n:,}\")\n",
    "    \n",
    "    s = '%d' % n\n",
    "    st=''\n",
    "    groups = []\n",
    "    while s and s[-1].isdigit():\n",
    "        groups.append(s[-3:])\n",
    "        print(groups)\n",
    "        s = s[:-3]\n",
    "        print(s)\n",
    "    \n",
    "\n",
    "    \n",
    "    return s + '.'.join(reversed(groups))\n",
    "\n"
   ]
  },
  {
   "cell_type": "code",
   "execution_count": 15,
   "metadata": {},
   "outputs": [
    {
     "name": "stdout",
     "output_type": "stream",
     "text": [
      "['768']\n",
      "789452\n",
      "['768', '452']\n",
      "789\n",
      "['768', '452', '789']\n",
      "\n"
     ]
    },
    {
     "data": {
      "text/plain": [
       "'789.452.768'"
      ]
     },
     "execution_count": 15,
     "metadata": {},
     "output_type": "execute_result"
    }
   ],
   "source": [
    "thousandSeparator(789452768)"
   ]
  },
  {
   "cell_type": "markdown",
   "metadata": {},
   "source": [
    "# iterative solution\n"
   ]
  },
  {
   "cell_type": "code",
   "execution_count": 22,
   "metadata": {},
   "outputs": [],
   "source": [
    "def Thouseparator(n):\n",
    "    if n==0:\n",
    "        return '0'\n",
    "    \n",
    "    st=''\n",
    "    i=0\n",
    "    \n",
    "    while n:\n",
    "        i +=1\n",
    "        st=str(n%10)+st\n",
    "        n//=10\n",
    "        if i%3==0:\n",
    "            st='.'+st\n",
    "        \n",
    "    if st[0]=='.':\n",
    "        return st[1:]\n",
    "    return st"
   ]
  },
  {
   "cell_type": "code",
   "execution_count": 23,
   "metadata": {},
   "outputs": [
    {
     "data": {
      "text/plain": [
       "'100.007.345'"
      ]
     },
     "execution_count": 23,
     "metadata": {},
     "output_type": "execute_result"
    }
   ],
   "source": [
    "Thouseparator(100007345)"
   ]
  },
  {
   "cell_type": "code",
   "execution_count": null,
   "metadata": {},
   "outputs": [],
   "source": []
  }
 ],
 "metadata": {
  "kernelspec": {
   "display_name": "Python 3",
   "language": "python",
   "name": "python3"
  },
  "language_info": {
   "codemirror_mode": {
    "name": "ipython",
    "version": 3
   },
   "file_extension": ".py",
   "mimetype": "text/x-python",
   "name": "python",
   "nbconvert_exporter": "python",
   "pygments_lexer": "ipython3",
   "version": "3.7.3"
  }
 },
 "nbformat": 4,
 "nbformat_minor": 2
}
