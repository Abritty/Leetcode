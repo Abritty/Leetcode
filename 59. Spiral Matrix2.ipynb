{
 "cells": [
  {
   "cell_type": "code",
   "execution_count": 51,
   "metadata": {},
   "outputs": [],
   "source": [
    "def SpiralMatrix2(n):\n",
    "    \n",
    "    nums = []\n",
    "    p = n*n\n",
    "    \n",
    "    arr = [[0 for _ in range(n)]for _ in range(n)]\n",
    "    col_beg = 0\n",
    "    col_end = n-1\n",
    "    row_beg = 0\n",
    "    row_end = n-1 \n",
    "    num = 1\n",
    "    \n",
    "    while col_beg <= col_end and row_beg <= row_end :\n",
    "        for i in range(col_beg, col_end+1):\n",
    "            arr[row_beg][i] = num \n",
    "            num += 1\n",
    "        row_beg +=1\n",
    "    \n",
    "        for i in range(row_beg, row_end+1):\n",
    "            arr[i][col_end] = num \n",
    "            num += 1\n",
    "        col_end -=1\n",
    "    \n",
    "        for i in range(col_end, col_beg-1,-1):\n",
    "            arr[row_end][i] = num \n",
    "            num += 1\n",
    "        row_end -=1\n",
    "    \n",
    "        for i in range(row_end, row_beg-1,-1):\n",
    "            arr[i][col_beg] = num \n",
    "            num += 1\n",
    "        col_beg +=1\n",
    "    \n",
    "    \n",
    "        \n",
    "    return arr\n",
    "        "
   ]
  },
  {
   "cell_type": "code",
   "execution_count": 52,
   "metadata": {},
   "outputs": [
    {
     "data": {
      "text/plain": [
       "[[1, 2, 3, 4], [12, 13, 14, 5], [11, 16, 15, 6], [10, 9, 8, 7]]"
      ]
     },
     "execution_count": 52,
     "metadata": {},
     "output_type": "execute_result"
    }
   ],
   "source": [
    "SpiralMatrix2(4)"
   ]
  },
  {
   "cell_type": "code",
   "execution_count": 26,
   "metadata": {},
   "outputs": [],
   "source": [
    "def generateMatrix(n):\n",
    "    if not n:\n",
    "        return []\n",
    "    res = [[0 for _ in range(n)] for _ in range(n)]\n",
    "    left, right, top, down, num = 0, n-1, 0, n-1, 1\n",
    "    while left <= right and top <= down:\n",
    "        for i in range(left, right+1):\n",
    "            res[top][i] = num \n",
    "            num += 1\n",
    "        top += 1\n",
    "        for i in range(top, down+1):\n",
    "            res[i][right] = num\n",
    "            num += 1\n",
    "        right -= 1\n",
    "        for i in range(right, left-1, -1):\n",
    "            res[down][i] = num\n",
    "            num += 1\n",
    "        down -= 1\n",
    "        for i in range(down, top-1, -1):\n",
    "            res[i][left] = num\n",
    "            num += 1\n",
    "        left += 1\n",
    "    return res"
   ]
  },
  {
   "cell_type": "code",
   "execution_count": 27,
   "metadata": {},
   "outputs": [
    {
     "data": {
      "text/plain": [
       "[[1, 2, 3, 4], [12, 13, 14, 5], [11, 16, 15, 6], [10, 9, 8, 7]]"
      ]
     },
     "execution_count": 27,
     "metadata": {},
     "output_type": "execute_result"
    }
   ],
   "source": [
    "generateMatrix(4)"
   ]
  },
  {
   "cell_type": "code",
   "execution_count": null,
   "metadata": {},
   "outputs": [],
   "source": []
  }
 ],
 "metadata": {
  "kernelspec": {
   "display_name": "Python 3",
   "language": "python",
   "name": "python3"
  },
  "language_info": {
   "codemirror_mode": {
    "name": "ipython",
    "version": 3
   },
   "file_extension": ".py",
   "mimetype": "text/x-python",
   "name": "python",
   "nbconvert_exporter": "python",
   "pygments_lexer": "ipython3",
   "version": "3.7.3"
  }
 },
 "nbformat": 4,
 "nbformat_minor": 2
}
