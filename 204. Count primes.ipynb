{
 "cells": [
  {
   "cell_type": "code",
   "execution_count": 12,
   "metadata": {},
   "outputs": [],
   "source": [
    "def countPrimes(n):\n",
    "    \n",
    "    limit = int(n**0.5)+1\n",
    "    mark =[0 for x in range(n+1)]\n",
    "    count =0\n",
    "    \n",
    "    mark[0]=mark[1]=1\n",
    "    \n",
    "    for i in range(4,n+1,2):\n",
    "        mark[i]=1\n",
    "        \n",
    "    for i in range(3,limit,2):\n",
    "        if(mark[i]==0):\n",
    "            for j in range(i*i,n,i*2):\n",
    "                mark[j]=1\n",
    "                \n",
    "    for i in range(n):\n",
    "        #print(mark[i])\n",
    "        if(mark[i]==0):\n",
    "            count= count+1\n",
    "            \n",
    "           \n",
    "            \n",
    "    return count\n",
    "            \n",
    "            \n",
    "        \n",
    "    "
   ]
  },
  {
   "cell_type": "code",
   "execution_count": 14,
   "metadata": {},
   "outputs": [
    {
     "name": "stdout",
     "output_type": "stream",
     "text": [
      "4\n"
     ]
    }
   ],
   "source": [
    "print(countPrimes(10))"
   ]
  },
  {
   "cell_type": "code",
   "execution_count": null,
   "metadata": {},
   "outputs": [],
   "source": []
  }
 ],
 "metadata": {
  "kernelspec": {
   "display_name": "Python 3",
   "language": "python",
   "name": "python3"
  },
  "language_info": {
   "codemirror_mode": {
    "name": "ipython",
    "version": 3
   },
   "file_extension": ".py",
   "mimetype": "text/x-python",
   "name": "python",
   "nbconvert_exporter": "python",
   "pygments_lexer": "ipython3",
   "version": "3.7.3"
  }
 },
 "nbformat": 4,
 "nbformat_minor": 2
}
