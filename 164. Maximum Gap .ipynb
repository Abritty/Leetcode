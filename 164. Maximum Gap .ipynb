{
 "cells": [
  {
   "cell_type": "code",
   "execution_count": 25,
   "metadata": {},
   "outputs": [],
   "source": [
    "def MaxGap(nums):\n",
    "    n= len(nums)\n",
    "    \n",
    "    if n <=2:\n",
    "        return 0\n",
    "    \n",
    "    nums.sort()\n",
    "    print(nums)\n",
    "    diff=0\n",
    "    max_diff=0\n",
    "    a=[]\n",
    "    \n",
    "    for i in range(0,len(nums)-1):\n",
    "            #if nums[i+1]-nums[i] > diff:\n",
    "            diff = nums[i+1]-nums[i]\n",
    "            max_diff = max(max_diff,diff)\n",
    "            \n",
    "    print(max_diff)\n",
    "    \n",
    "            \n",
    "        \n",
    "    \n",
    "        "
   ]
  },
  {
   "cell_type": "code",
   "execution_count": 26,
   "metadata": {},
   "outputs": [
    {
     "name": "stdout",
     "output_type": "stream",
     "text": [
      "[1, 3, 6, 9]\n",
      "3\n"
     ]
    }
   ],
   "source": [
    "nums=[3,6,9,1]\n",
    "MaxGap(nums)"
   ]
  },
  {
   "cell_type": "code",
   "execution_count": null,
   "metadata": {},
   "outputs": [],
   "source": []
  },
  {
   "cell_type": "code",
   "execution_count": null,
   "metadata": {},
   "outputs": [],
   "source": []
  }
 ],
 "metadata": {
  "kernelspec": {
   "display_name": "Python 3",
   "language": "python",
   "name": "python3"
  },
  "language_info": {
   "codemirror_mode": {
    "name": "ipython",
    "version": 3
   },
   "file_extension": ".py",
   "mimetype": "text/x-python",
   "name": "python",
   "nbconvert_exporter": "python",
   "pygments_lexer": "ipython3",
   "version": "3.7.3"
  }
 },
 "nbformat": 4,
 "nbformat_minor": 2
}
