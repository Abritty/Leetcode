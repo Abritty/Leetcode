{
 "cells": [
  {
   "cell_type": "markdown",
   "metadata": {},
   "source": [
    "# Using Permutation in Python "
   ]
  },
  {
   "cell_type": "code",
   "execution_count": 23,
   "metadata": {},
   "outputs": [],
   "source": [
    "from itertools import permutations \n",
    "\n",
    "def largestTimeFromDigits(A):\n",
    "    best=-1\n",
    "    \n",
    "    for h1,h2,m1,m2 in permutations(A):\n",
    "        #print(h1,h2,\":\",m1,m2)\n",
    "        hour = h1*10+h2\n",
    "        minute=m1*10+m2\n",
    "        \n",
    "        if 0<=hour<24 and 0<=minute<60:\n",
    "            best=max(best,hour*60 + minute)\n",
    "            \n",
    "    best_hour,best_minute=best//60,best%60\n",
    "            \n",
    "    if best == -1:\n",
    "        return \"\"\n",
    "    else:\n",
    "        return f\"{best_hour:02}:{best_minute:02}\"\n",
    "    \n",
    "            \n",
    "    "
   ]
  },
  {
   "cell_type": "code",
   "execution_count": 25,
   "metadata": {},
   "outputs": [
    {
     "data": {
      "text/plain": [
       "'23:59'"
      ]
     },
     "execution_count": 25,
     "metadata": {},
     "output_type": "execute_result"
    }
   ],
   "source": [
    "arr=[2,5,3,9]\n",
    "largestTimeFromDigits(arr)"
   ]
  },
  {
   "cell_type": "code",
   "execution_count": null,
   "metadata": {},
   "outputs": [],
   "source": []
  }
 ],
 "metadata": {
  "kernelspec": {
   "display_name": "Python 3",
   "language": "python",
   "name": "python3"
  },
  "language_info": {
   "codemirror_mode": {
    "name": "ipython",
    "version": 3
   },
   "file_extension": ".py",
   "mimetype": "text/x-python",
   "name": "python",
   "nbconvert_exporter": "python",
   "pygments_lexer": "ipython3",
   "version": "3.7.3"
  }
 },
 "nbformat": 4,
 "nbformat_minor": 2
}
