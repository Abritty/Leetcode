{
 "cells": [
  {
   "cell_type": "code",
   "execution_count": 12,
   "metadata": {},
   "outputs": [],
   "source": [
    "def reverse_integer(x):\n",
    "    sign = -1 if x<0 else 1\n",
    "    x*= sign \n",
    "    rev_int = 0\n",
    "    \n",
    "    while(x!=0):\n",
    "        remainder = x%10\n",
    "        rev_int = (rev_int*10) + remainder\n",
    "        x= x//10\n",
    "        \n",
    "    if(sign*rev_int>2**31-1):\n",
    "            return 0\n",
    "    elif(sign*rev_int<-2**31):\n",
    "            return 0\n",
    "    else:\n",
    "            return sign*rev_int"
   ]
  },
  {
   "cell_type": "code",
   "execution_count": 16,
   "metadata": {},
   "outputs": [
    {
     "data": {
      "text/plain": [
       "-75439987111087"
      ]
     },
     "execution_count": 16,
     "metadata": {},
     "output_type": "execute_result"
    }
   ],
   "source": [
    "reverse_integer(-78011178993457)"
   ]
  },
  {
   "cell_type": "code",
   "execution_count": null,
   "metadata": {},
   "outputs": [],
   "source": []
  }
 ],
 "metadata": {
  "kernelspec": {
   "display_name": "Python 3",
   "language": "python",
   "name": "python3"
  },
  "language_info": {
   "codemirror_mode": {
    "name": "ipython",
    "version": 3
   },
   "file_extension": ".py",
   "mimetype": "text/x-python",
   "name": "python",
   "nbconvert_exporter": "python",
   "pygments_lexer": "ipython3",
   "version": "3.7.3"
  }
 },
 "nbformat": 4,
 "nbformat_minor": 2
}
