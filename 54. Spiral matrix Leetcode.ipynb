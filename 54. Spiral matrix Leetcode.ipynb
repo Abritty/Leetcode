{
 "cells": [
  {
   "cell_type": "code",
   "execution_count": 86,
   "metadata": {},
   "outputs": [],
   "source": [
    "def spiralOrder(matrix) :\n",
    "    arr = []\n",
    "    if len(matrix)==0:\n",
    "        return arr\n",
    "    rows = len(matrix)\n",
    "    col = len(matrix[0])\n",
    "    #print(\"coloums\",col)\n",
    "    row_beg = 0\n",
    "    col_beg = 0\n",
    "    col_end=col-1\n",
    "    row_end =rows-1\n",
    "    \n",
    "    while(row_beg<=row_end and col_beg<=col_end):\n",
    "        for i in range(col_beg,col_end+1):\n",
    "            #print(i)\n",
    "            arr.append(matrix[row_beg][i])\n",
    "        row_beg +=1\n",
    "        \n",
    "        for i in range(row_beg,row_end+1):\n",
    "            #print(i)\n",
    "            arr.append(matrix[i][col_end])\n",
    "        col_end -=1\n",
    "        \n",
    "        if (row_beg <= row_end):\n",
    "            for i in range(col_end,col_beg-1,-1):\n",
    "                arr.append(matrix[row_end][i])\n",
    "        row_end -=1\n",
    "        \n",
    "        if (col_beg <= col_end):\n",
    "            for i in range(row_end,row_beg-1,-1):\n",
    "                arr.append(matrix[i][col_beg])\n",
    "        col_beg += 1\n",
    "        \n",
    "         \n",
    "    print(arr)\n",
    "    "
   ]
  },
  {
   "cell_type": "code",
   "execution_count": 87,
   "metadata": {},
   "outputs": [
    {
     "name": "stdout",
     "output_type": "stream",
     "text": [
      "[1, 2, 3, 20, 25, 30, 36, 13, 12, 11, 7, 4, 5, 6, 9, 8]\n",
      "None\n"
     ]
    }
   ],
   "source": [
    "mat =[\n",
    "    [1,2,3,20],\n",
    "    [4,5,6,25],\n",
    "    [7,8,9,30],\n",
    "    [11,12,13,36]\n",
    "]\n",
    "print(spiralOrder(mat))"
   ]
  },
  {
   "cell_type": "code",
   "execution_count": 51,
   "metadata": {},
   "outputs": [
    {
     "name": "stdout",
     "output_type": "stream",
     "text": [
      "3\n",
      "2\n",
      "1\n",
      "0\n"
     ]
    }
   ],
   "source": [
    "\n",
    "        "
   ]
  },
  {
   "cell_type": "code",
   "execution_count": null,
   "metadata": {},
   "outputs": [],
   "source": []
  }
 ],
 "metadata": {
  "kernelspec": {
   "display_name": "Python 3",
   "language": "python",
   "name": "python3"
  },
  "language_info": {
   "codemirror_mode": {
    "name": "ipython",
    "version": 3
   },
   "file_extension": ".py",
   "mimetype": "text/x-python",
   "name": "python",
   "nbconvert_exporter": "python",
   "pygments_lexer": "ipython3",
   "version": "3.7.3"
  }
 },
 "nbformat": 4,
 "nbformat_minor": 2
}
