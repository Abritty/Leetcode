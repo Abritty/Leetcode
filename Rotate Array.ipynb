{
 "cells": [
  {
   "cell_type": "code",
   "execution_count": 18,
   "metadata": {},
   "outputs": [],
   "source": [
    "def Right_rotate(arr,d,n):\n",
    "    for i in range(d):\n",
    "        Right_rotate_onebyone(arr,n)\n",
    "        \n",
    "        \n",
    "        \n",
    "#function for left rotating by size 1\n",
    "\n",
    "def Right_rotate_onebyone(arr,n):\n",
    "    temp = arr[-1]\n",
    "    p=n-1\n",
    "    for i in range(0,p):\n",
    "        arr[p-i]=arr[p-i-1]\n",
    "    arr[0] = temp\n",
    "    \n",
    "#function for printing array\n",
    "def print_array(arr,size):\n",
    "    for i in range(size):\n",
    "        print (\"% d\"% arr[i], end =\" \") \n",
    "    \n",
    "    "
   ]
  },
  {
   "cell_type": "code",
   "execution_count": 20,
   "metadata": {},
   "outputs": [
    {
     "name": "stdout",
     "output_type": "stream",
     "text": [
      " 6  7  1  2  3  4  5 "
     ]
    }
   ],
   "source": [
    "Array = [1,2,3,4,5,6,7]\n",
    "Right_rotate(Array,2,7)\n",
    "print_array(Array,7)"
   ]
  },
  {
   "cell_type": "code",
   "execution_count": null,
   "metadata": {},
   "outputs": [],
   "source": []
  }
 ],
 "metadata": {
  "kernelspec": {
   "display_name": "Python 3",
   "language": "python",
   "name": "python3"
  },
  "language_info": {
   "codemirror_mode": {
    "name": "ipython",
    "version": 3
   },
   "file_extension": ".py",
   "mimetype": "text/x-python",
   "name": "python",
   "nbconvert_exporter": "python",
   "pygments_lexer": "ipython3",
   "version": "3.7.3"
  }
 },
 "nbformat": 4,
 "nbformat_minor": 2
}
