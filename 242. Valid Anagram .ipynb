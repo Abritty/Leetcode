{
 "cells": [
  {
   "cell_type": "code",
   "execution_count": 1,
   "metadata": {},
   "outputs": [],
   "source": [
    "def isAnagram(s,t):\n",
    "    if(len(s) != len(t)):\n",
    "        return False\n",
    "    \n",
    "    tmap={}\n",
    "    \n",
    "    for char in s:\n",
    "        if char not in tmap:\n",
    "            tmap[char] =1\n",
    "        else:\n",
    "            tmap[char]+=1\n",
    "            \n",
    "    for char in t:\n",
    "        if char in tmap:\n",
    "            tmap[char] -=1\n",
    "        else:\n",
    "            return False\n",
    "        \n",
    "    for val in tmap.values():\n",
    "        if val !=0:\n",
    "            return False\n",
    "        \n",
    "    return True\n",
    "        \n",
    "        "
   ]
  },
  {
   "cell_type": "code",
   "execution_count": 3,
   "metadata": {},
   "outputs": [
    {
     "name": "stdout",
     "output_type": "stream",
     "text": [
      "False\n"
     ]
    }
   ],
   "source": [
    "s=\"asdfghjkl\"\n",
    "t=\"hjklpdsfg\"\n",
    "\n",
    "print(isAnagram(s,t))"
   ]
  },
  {
   "cell_type": "code",
   "execution_count": null,
   "metadata": {},
   "outputs": [],
   "source": []
  }
 ],
 "metadata": {
  "kernelspec": {
   "display_name": "Python 3",
   "language": "python",
   "name": "python3"
  },
  "language_info": {
   "codemirror_mode": {
    "name": "ipython",
    "version": 3
   },
   "file_extension": ".py",
   "mimetype": "text/x-python",
   "name": "python",
   "nbconvert_exporter": "python",
   "pygments_lexer": "ipython3",
   "version": "3.7.3"
  }
 },
 "nbformat": 4,
 "nbformat_minor": 2
}
