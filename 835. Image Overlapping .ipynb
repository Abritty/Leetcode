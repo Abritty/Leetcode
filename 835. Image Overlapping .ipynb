{
 "cells": [
  {
   "cell_type": "code",
   "execution_count": 39,
   "metadata": {},
   "outputs": [],
   "source": [
    "def largestOverlap(A,B):\n",
    "        def shift_count(AA, BB):\n",
    "            n, count = len(AA), 0\n",
    "            for x in range(n):\n",
    "                for y in range(n):\n",
    "                    temp = 0\n",
    "                    for i in range(y, n):\n",
    "                        for j in range(x, n):\n",
    "                            if AA[i][j] == 1 and BB[i-y][j-x] == 1: temp += 1\n",
    "                    count = max(count, temp)\n",
    "            return count\n",
    "        \n",
    "        return max(shift_count(A, B), shift_count(B, A))\n"
   ]
  },
  {
   "cell_type": "code",
   "execution_count": 40,
   "metadata": {},
   "outputs": [
    {
     "data": {
      "text/plain": [
       "3"
      ]
     },
     "execution_count": 40,
     "metadata": {},
     "output_type": "execute_result"
    }
   ],
   "source": [
    "A=[[1,1,0],\n",
    "  [0,1,0],\n",
    "  [0,1,0]]\n",
    "B=[[0,0,0],\n",
    "  [0,1,1],\n",
    "  [0,0,1]]\n",
    "\n",
    "largestOverlap(A,B)"
   ]
  },
  {
   "cell_type": "code",
   "execution_count": 52,
   "metadata": {},
   "outputs": [],
   "source": [
    "def visual_for(n):\n",
    "    for x in range(n):\n",
    "        for y in range(n):\n",
    "            print(x,y)\n",
    "            for i in range(y,n):\n",
    "                for j in range(x,n):\n",
    "                    print(i,j,i-y,j-x)"
   ]
  },
  {
   "cell_type": "code",
   "execution_count": 53,
   "metadata": {},
   "outputs": [
    {
     "name": "stdout",
     "output_type": "stream",
     "text": [
      "0 0\n",
      "0 0 0 0\n",
      "0 1 0 1\n",
      "0 2 0 2\n",
      "1 0 1 0\n",
      "1 1 1 1\n",
      "1 2 1 2\n",
      "2 0 2 0\n",
      "2 1 2 1\n",
      "2 2 2 2\n",
      "0 1\n",
      "1 0 0 0\n",
      "1 1 0 1\n",
      "1 2 0 2\n",
      "2 0 1 0\n",
      "2 1 1 1\n",
      "2 2 1 2\n",
      "0 2\n",
      "2 0 0 0\n",
      "2 1 0 1\n",
      "2 2 0 2\n",
      "1 0\n",
      "0 1 0 0\n",
      "0 2 0 1\n",
      "1 1 1 0\n",
      "1 2 1 1\n",
      "2 1 2 0\n",
      "2 2 2 1\n",
      "1 1\n",
      "1 1 0 0\n",
      "1 2 0 1\n",
      "2 1 1 0\n",
      "2 2 1 1\n",
      "1 2\n",
      "2 1 0 0\n",
      "2 2 0 1\n",
      "2 0\n",
      "0 2 0 0\n",
      "1 2 1 0\n",
      "2 2 2 0\n",
      "2 1\n",
      "1 2 0 0\n",
      "2 2 1 0\n",
      "2 2\n",
      "2 2 0 0\n"
     ]
    }
   ],
   "source": [
    "visual_for(3)"
   ]
  },
  {
   "cell_type": "code",
   "execution_count": null,
   "metadata": {},
   "outputs": [],
   "source": []
  }
 ],
 "metadata": {
  "kernelspec": {
   "display_name": "Python 3",
   "language": "python",
   "name": "python3"
  },
  "language_info": {
   "codemirror_mode": {
    "name": "ipython",
    "version": 3
   },
   "file_extension": ".py",
   "mimetype": "text/x-python",
   "name": "python",
   "nbconvert_exporter": "python",
   "pygments_lexer": "ipython3",
   "version": "3.7.3"
  }
 },
 "nbformat": 4,
 "nbformat_minor": 2
}
