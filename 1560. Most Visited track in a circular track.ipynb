{
 "cells": [
  {
   "cell_type": "code",
   "execution_count": 57,
   "metadata": {},
   "outputs": [],
   "source": [
    "def mostVisited(n,rounds):\n",
    "    l=[]\n",
    "    ans=[]\n",
    "    for i in range(1,n+1):\n",
    "        l.append(0) #zeroes equal to array size \n",
    "    #print(l)\n",
    "    \n",
    "    for i in range(1,len(rounds)): #1 less than array size \n",
    "        f=rounds[i-1]\n",
    "        s=rounds[i]\n",
    "        \n",
    "        if(f>s):\n",
    "            \n",
    "            for j in range(f-1,n):\n",
    "                l[j]+=1\n",
    "            for j in range(s-1):\n",
    "                l[j]+=1\n",
    "        else:\n",
    "            for j in range(f-1,s-1):\n",
    "                l[j]+=1\n",
    "                \n",
    "        print(l)\n",
    "        print(f,s)\n",
    "        \n",
    "    l[rounds[-1]-1] +=1\n",
    "    print(\"final array\",l)\n",
    "    m=max(l)\n",
    "    print(\"max\",m)\n",
    "    for i in range(len(l)):\n",
    "        if(l[i]==m):\n",
    "            ans.append(i+1)\n",
    "    ans.sort()\n",
    "    print(ans)"
   ]
  },
  {
   "cell_type": "code",
   "execution_count": 61,
   "metadata": {},
   "outputs": [
    {
     "name": "stdout",
     "output_type": "stream",
     "text": [
      "[1, 1, 1, 1, 1, 1, 0]\n",
      "1 7\n",
      "[2, 1, 1, 1, 1, 1, 1]\n",
      "7 2\n",
      "[2, 2, 2, 2, 2, 2, 1]\n",
      "2 7\n",
      "final array [2, 2, 2, 2, 2, 2, 2]\n",
      "max 2\n",
      "[1, 2, 3, 4, 5, 6, 7]\n"
     ]
    }
   ],
   "source": [
    "rounds=[1,7,2,7]\n",
    "mostVisited(7,rounds)"
   ]
  },
  {
   "cell_type": "code",
   "execution_count": null,
   "metadata": {},
   "outputs": [],
   "source": []
  }
 ],
 "metadata": {
  "kernelspec": {
   "display_name": "Python 3",
   "language": "python",
   "name": "python3"
  },
  "language_info": {
   "codemirror_mode": {
    "name": "ipython",
    "version": 3
   },
   "file_extension": ".py",
   "mimetype": "text/x-python",
   "name": "python",
   "nbconvert_exporter": "python",
   "pygments_lexer": "ipython3",
   "version": "3.7.3"
  }
 },
 "nbformat": 4,
 "nbformat_minor": 2
}
