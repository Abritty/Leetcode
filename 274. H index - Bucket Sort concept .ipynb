{
 "cells": [
  {
   "cell_type": "code",
   "execution_count": 85,
   "metadata": {},
   "outputs": [],
   "source": [
    "def hIndex(citations):\n",
    "    n=len(citations)\n",
    "    bucket = [0 for x in range(n+1)] \n",
    "    \n",
    "    for i in range(n):\n",
    "        bucket[min(citations[i],5)]+=1\n",
    "    #print(bucket)\n",
    "    total_papers = 0\n",
    "    temp=0\n",
    "    p=len(bucket)\n",
    "    \n",
    "    for i in range(p-1,-1,-1):\n",
    "        total_papers=total_papers+bucket[i]\n",
    "        #print(total_papers,\" \",i,\"kk\")\n",
    "        if(total_papers >=i):\n",
    "            temp=i\n",
    "            break\n",
    "            \n",
    "    return temp\n",
    "        \n",
    "        \n",
    "            \n",
    "            \n",
    "    \n",
    "    "
   ]
  },
  {
   "cell_type": "code",
   "execution_count": 87,
   "metadata": {},
   "outputs": [
    {
     "name": "stdout",
     "output_type": "stream",
     "text": [
      "4\n"
     ]
    }
   ],
   "source": [
    "arr=[1,2,6,7,8,9]\n",
    "print(hIndex(arr))"
   ]
  },
  {
   "cell_type": "code",
   "execution_count": null,
   "metadata": {},
   "outputs": [],
   "source": []
  }
 ],
 "metadata": {
  "kernelspec": {
   "display_name": "Python 3",
   "language": "python",
   "name": "python3"
  },
  "language_info": {
   "codemirror_mode": {
    "name": "ipython",
    "version": 3
   },
   "file_extension": ".py",
   "mimetype": "text/x-python",
   "name": "python",
   "nbconvert_exporter": "python",
   "pygments_lexer": "ipython3",
   "version": "3.7.3"
  }
 },
 "nbformat": 4,
 "nbformat_minor": 2
}
