{
 "cells": [
  {
   "cell_type": "code",
   "execution_count": 31,
   "metadata": {},
   "outputs": [],
   "source": [
    "def longestPalindrome(s):\n",
    "    tmap={}\n",
    "    count=0\n",
    "    odd_count=0\n",
    "    odd_exist=False\n",
    "    \n",
    "    \n",
    "    for char in s:\n",
    "        if char not in tmap:\n",
    "            tmap[char] =1\n",
    "        else:\n",
    "            tmap[char]+=1\n",
    "    print(tmap)\n",
    "            \n",
    "    for val in tmap.values():\n",
    "        if val%2==0:\n",
    "            count=count+val\n",
    "        else:\n",
    "            count=count+val-1\n",
    "            odd_exist=True\n",
    "    print(\"even_count\",count)\n",
    "    #print(\"odd_count\",odd_count)\n",
    "    \n",
    "    if(odd_exist==True):\n",
    "        return count+1\n",
    "    else:\n",
    "        return count\n",
    "    \n",
    "            "
   ]
  },
  {
   "cell_type": "code",
   "execution_count": 33,
   "metadata": {},
   "outputs": [
    {
     "name": "stdout",
     "output_type": "stream",
     "text": [
      "{'a': 1, 'b': 1, 'c': 4, 'd': 2}\n",
      "even_count 6\n"
     ]
    },
    {
     "data": {
      "text/plain": [
       "7"
      ]
     },
     "execution_count": 33,
     "metadata": {},
     "output_type": "execute_result"
    }
   ],
   "source": [
    "s=\"abccccdd\"\n",
    "longestPalindrome(s)"
   ]
  },
  {
   "cell_type": "code",
   "execution_count": null,
   "metadata": {},
   "outputs": [],
   "source": []
  }
 ],
 "metadata": {
  "kernelspec": {
   "display_name": "Python 3",
   "language": "python",
   "name": "python3"
  },
  "language_info": {
   "codemirror_mode": {
    "name": "ipython",
    "version": 3
   },
   "file_extension": ".py",
   "mimetype": "text/x-python",
   "name": "python",
   "nbconvert_exporter": "python",
   "pygments_lexer": "ipython3",
   "version": "3.7.3"
  }
 },
 "nbformat": 4,
 "nbformat_minor": 2
}
