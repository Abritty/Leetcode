{
 "cells": [
  {
   "cell_type": "code",
   "execution_count": 66,
   "metadata": {},
   "outputs": [],
   "source": [
    "def permute(nums):\n",
    "    \n",
    "    return permutation(nums,0)\n",
    "\n",
    "def permutation(array,start):\n",
    "        ans=[]\n",
    "        if start==len(array):\n",
    "            ans.append(array[:])  #make a new copy to freeze nums\n",
    "            \n",
    "        \n",
    "            \n",
    "        else:\n",
    "            for i in range(start,len(array)):\n",
    "                array[start],array[i] = array[i],array[start] #swapping\n",
    "                ans +=permutation(array,start+1)\n",
    "                #print(\"kasjs\",ans)\n",
    "                array[start],array[i] = array[i],array[start]#backtracking swap\n",
    "                \n",
    "        return ans\n",
    "                \n",
    "        \n",
    "                \n",
    "          \n",
    "\n",
    "                   \n",
    "    \n",
    "    \n",
    "    "
   ]
  },
  {
   "cell_type": "code",
   "execution_count": 72,
   "metadata": {},
   "outputs": [
    {
     "data": {
      "text/plain": [
       "[[1, 2], [2, 1]]"
      ]
     },
     "execution_count": 72,
     "metadata": {},
     "output_type": "execute_result"
    }
   ],
   "source": [
    "n=[1,2]\n",
    "permute(n)"
   ]
  },
  {
   "cell_type": "code",
   "execution_count": null,
   "metadata": {},
   "outputs": [],
   "source": []
  }
 ],
 "metadata": {
  "kernelspec": {
   "display_name": "Python 3",
   "language": "python",
   "name": "python3"
  },
  "language_info": {
   "codemirror_mode": {
    "name": "ipython",
    "version": 3
   },
   "file_extension": ".py",
   "mimetype": "text/x-python",
   "name": "python",
   "nbconvert_exporter": "python",
   "pygments_lexer": "ipython3",
   "version": "3.7.3"
  }
 },
 "nbformat": 4,
 "nbformat_minor": 2
}
