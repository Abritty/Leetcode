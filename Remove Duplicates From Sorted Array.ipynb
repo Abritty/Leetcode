{
 "cells": [
  {
   "cell_type": "markdown",
   "metadata": {},
   "source": [
    "# Using extra Array "
   ]
  },
  {
   "cell_type": "code",
   "execution_count": 6,
   "metadata": {},
   "outputs": [],
   "source": [
    "def remove_duplicates(nums):\n",
    "    unique_nums=[]\n",
    "    unique_nums.append(nums[0])\n",
    "    \n",
    "    n=len(nums)\n",
    "    for i in range(1,n):\n",
    "        if nums[i] != nums[i-1]:\n",
    "            unique_nums.append(nums[i])\n",
    "    print(unique_nums)\n",
    "    return len(unique_nums)"
   ]
  },
  {
   "cell_type": "code",
   "execution_count": 9,
   "metadata": {},
   "outputs": [
    {
     "name": "stdout",
     "output_type": "stream",
     "text": [
      "[1, 2, 3, 6, 7, 0]\n",
      "6\n"
     ]
    }
   ],
   "source": [
    "c = remove_duplicates([1,1,1,2,2,3,3,6,7,0])\n",
    "print(c)"
   ]
  },
  {
   "cell_type": "markdown",
   "metadata": {},
   "source": [
    "# Using list"
   ]
  },
  {
   "cell_type": "code",
   "execution_count": 10,
   "metadata": {},
   "outputs": [],
   "source": [
    "def remove_duplicates(nums):\n",
    "    unique_nums = list(set(nums))\n",
    "    unique_nums.sort()\n",
    "    print(unique_nums)\n",
    "    return len(unique_nums)"
   ]
  },
  {
   "cell_type": "code",
   "execution_count": 11,
   "metadata": {},
   "outputs": [
    {
     "name": "stdout",
     "output_type": "stream",
     "text": [
      "[0, 1, 2, 3, 6, 7]\n",
      "6\n"
     ]
    }
   ],
   "source": [
    "c = remove_duplicates([1,1,1,2,2,3,3,6,7,0])\n",
    "print(c)"
   ]
  },
  {
   "cell_type": "markdown",
   "metadata": {},
   "source": [
    "# Using source array "
   ]
  },
  {
   "cell_type": "code",
   "execution_count": 12,
   "metadata": {},
   "outputs": [],
   "source": [
    "def remove_duplicate(nums):\n",
    "    n = len(nums)\n",
    "    \n",
    "    current_index = 1\n",
    "    for i in range(1,n):\n",
    "        if nums[i] !=nums[i-1]:\n",
    "            nums[current_index] = nums[i]\n",
    "            current_index +=1\n",
    "    return current_index"
   ]
  },
  {
   "cell_type": "code",
   "execution_count": 20,
   "metadata": {},
   "outputs": [
    {
     "name": "stdout",
     "output_type": "stream",
     "text": [
      "[1, 2, 3, 4, 5, 6, 7]\n",
      "7\n"
     ]
    }
   ],
   "source": [
    "nums= [1,1,1,2,3,3,4,4,4,5,6,6,7]\n",
    "l = remove_duplicate(nums)\n",
    "print(nums[:l])\n",
    "print(l)"
   ]
  },
  {
   "cell_type": "code",
   "execution_count": 17,
   "metadata": {},
   "outputs": [
    {
     "name": "stdout",
     "output_type": "stream",
     "text": [
      "[1, 2, 3, 4, 5, 6, 7]\n"
     ]
    }
   ],
   "source": [
    "array = [1,2,3,4,5,6,7,8]\n",
    "print(array[:7])"
   ]
  },
  {
   "cell_type": "code",
   "execution_count": null,
   "metadata": {},
   "outputs": [],
   "source": []
  }
 ],
 "metadata": {
  "kernelspec": {
   "display_name": "Python 3",
   "language": "python",
   "name": "python3"
  },
  "language_info": {
   "codemirror_mode": {
    "name": "ipython",
    "version": 3
   },
   "file_extension": ".py",
   "mimetype": "text/x-python",
   "name": "python",
   "nbconvert_exporter": "python",
   "pygments_lexer": "ipython3",
   "version": "3.7.3"
  }
 },
 "nbformat": 4,
 "nbformat_minor": 2
}
