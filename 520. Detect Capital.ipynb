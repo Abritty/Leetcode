{
 "cells": [
  {
   "cell_type": "markdown",
   "metadata": {},
   "source": [
    "# Charater by character approach"
   ]
  },
  {
   "cell_type": "code",
   "execution_count": 12,
   "metadata": {},
   "outputs": [],
   "source": [
    "def detectCapitalUse(self, word: str) -> bool:\n",
    "        n = len(word)\n",
    "            \n",
    "        match1, match2, match3 = True, True, True\n",
    "\n",
    "        # case 1: All capital\n",
    "        for i in range(n):\n",
    "            if not word[i].isupper():\n",
    "                match1 = False\n",
    "                break\n",
    "        if match1:\n",
    "            return True\n",
    "\n",
    "        # case 2: All not capital\n",
    "        for i in range(n):\n",
    "            if word[i].isupper():\n",
    "                match2 = False\n",
    "                break\n",
    "        if match2:\n",
    "            return True\n",
    "\n",
    "        # case 3: All not capital except first\n",
    "        if not word[0].isupper():\n",
    "            match3 = False\n",
    "        if match3:\n",
    "            for i in range(1, n):\n",
    "                if word[i].isupper():\n",
    "                    match3 = False\n",
    "        if match3:\n",
    "            return True\n",
    "\n",
    "        # if not matching\n",
    "        return False\n",
    "            \n",
    "            "
   ]
  },
  {
   "cell_type": "code",
   "execution_count": 14,
   "metadata": {},
   "outputs": [
    {
     "name": "stdout",
     "output_type": "stream",
     "text": [
      "None\n"
     ]
    }
   ],
   "source": [
    "str = \"Uni\"\n",
    "print(detectCapital(str))"
   ]
  },
  {
   "cell_type": "code",
   "execution_count": null,
   "metadata": {},
   "outputs": [],
   "source": []
  }
 ],
 "metadata": {
  "kernelspec": {
   "display_name": "Python 3",
   "language": "python",
   "name": "python3"
  },
  "language_info": {
   "codemirror_mode": {
    "name": "ipython",
    "version": 3
   },
   "file_extension": ".py",
   "mimetype": "text/x-python",
   "name": "python",
   "nbconvert_exporter": "python",
   "pygments_lexer": "ipython3",
   "version": "3.7.3"
  }
 },
 "nbformat": 4,
 "nbformat_minor": 2
}
