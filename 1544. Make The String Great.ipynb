{
 "cells": [
  {
   "cell_type": "code",
   "execution_count": 4,
   "metadata": {},
   "outputs": [],
   "source": [
    "def makeGood(s):\n",
    "    i=0\n",
    "    while i < len(s)-1:\n",
    "        if(s[i].upper()==s[i+1] and s[i]==s[i+1].lower()) or (s[i].lower()==s[i+1] and s[i]==s[i+1].upper()):\n",
    "            s=s[:i]+s[i+2:]\n",
    "            i=max(0,i-1)\n",
    "            #print(s)\n",
    "        else:\n",
    "            i+=1\n",
    "            \n",
    "    return s\n",
    "        \n",
    "    "
   ]
  },
  {
   "cell_type": "code",
   "execution_count": 6,
   "metadata": {},
   "outputs": [
    {
     "name": "stdout",
     "output_type": "stream",
     "text": [
      "abBACcUUpP\n",
      "aACcUUpP\n",
      "CcUUpP\n",
      "UUpP\n",
      "UU\n",
      "UU\n"
     ]
    }
   ],
   "source": [
    "print(makeGood(\"aBbbBACcUUpP\"))"
   ]
  },
  {
   "cell_type": "code",
   "execution_count": null,
   "metadata": {},
   "outputs": [],
   "source": []
  }
 ],
 "metadata": {
  "kernelspec": {
   "display_name": "Python 3",
   "language": "python",
   "name": "python3"
  },
  "language_info": {
   "codemirror_mode": {
    "name": "ipython",
    "version": 3
   },
   "file_extension": ".py",
   "mimetype": "text/x-python",
   "name": "python",
   "nbconvert_exporter": "python",
   "pygments_lexer": "ipython3",
   "version": "3.7.3"
  }
 },
 "nbformat": 4,
 "nbformat_minor": 2
}
