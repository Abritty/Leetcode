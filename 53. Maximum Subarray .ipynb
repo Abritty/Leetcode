{
 "cells": [
  {
   "cell_type": "markdown",
   "metadata": {},
   "source": [
    "# Bruteforce "
   ]
  },
  {
   "cell_type": "code",
   "execution_count": 60,
   "metadata": {},
   "outputs": [],
   "source": [
    "#complexity O(n^2)\n",
    "\n",
    "def maxSubarr(A):\n",
    "    n = len(A)\n",
    "    max_sum = -2**31\n",
    "    \n",
    "    for i in range(n):\n",
    "        curr_sum = 0\n",
    "        print(i,curr_sum)\n",
    "        for j in range(i,n):\n",
    "            curr_sum +=A[j]\n",
    "            print(i,j,curr_sum)\n",
    "            max_sum = max(max_sum,curr_sum)\n",
    "            print(\"updated max sum\",max_sum)\n",
    "            \n",
    "    #max_sum = max(max_sum,curr_sum)\n",
    "    return max_sum\n",
    "    \n",
    "    "
   ]
  },
  {
   "cell_type": "code",
   "execution_count": 61,
   "metadata": {},
   "outputs": [
    {
     "name": "stdout",
     "output_type": "stream",
     "text": [
      "0 0\n",
      "0 0 -2\n",
      "updated max sum -2\n",
      "0 1 -1\n",
      "updated max sum -1\n",
      "0 2 -4\n",
      "updated max sum -1\n",
      "0 3 0\n",
      "updated max sum 0\n",
      "0 4 -1\n",
      "updated max sum 0\n",
      "0 5 1\n",
      "updated max sum 1\n",
      "0 6 2\n",
      "updated max sum 2\n",
      "0 7 -3\n",
      "updated max sum 2\n",
      "0 8 1\n",
      "updated max sum 2\n",
      "1 0\n",
      "1 1 1\n",
      "updated max sum 2\n",
      "1 2 -2\n",
      "updated max sum 2\n",
      "1 3 2\n",
      "updated max sum 2\n",
      "1 4 1\n",
      "updated max sum 2\n",
      "1 5 3\n",
      "updated max sum 3\n",
      "1 6 4\n",
      "updated max sum 4\n",
      "1 7 -1\n",
      "updated max sum 4\n",
      "1 8 3\n",
      "updated max sum 4\n",
      "2 0\n",
      "2 2 -3\n",
      "updated max sum 4\n",
      "2 3 1\n",
      "updated max sum 4\n",
      "2 4 0\n",
      "updated max sum 4\n",
      "2 5 2\n",
      "updated max sum 4\n",
      "2 6 3\n",
      "updated max sum 4\n",
      "2 7 -2\n",
      "updated max sum 4\n",
      "2 8 2\n",
      "updated max sum 4\n",
      "3 0\n",
      "3 3 4\n",
      "updated max sum 4\n",
      "3 4 3\n",
      "updated max sum 4\n",
      "3 5 5\n",
      "updated max sum 5\n",
      "3 6 6\n",
      "updated max sum 6\n",
      "3 7 1\n",
      "updated max sum 6\n",
      "3 8 5\n",
      "updated max sum 6\n",
      "4 0\n",
      "4 4 -1\n",
      "updated max sum 6\n",
      "4 5 1\n",
      "updated max sum 6\n",
      "4 6 2\n",
      "updated max sum 6\n",
      "4 7 -3\n",
      "updated max sum 6\n",
      "4 8 1\n",
      "updated max sum 6\n",
      "5 0\n",
      "5 5 2\n",
      "updated max sum 6\n",
      "5 6 3\n",
      "updated max sum 6\n",
      "5 7 -2\n",
      "updated max sum 6\n",
      "5 8 2\n",
      "updated max sum 6\n",
      "6 0\n",
      "6 6 1\n",
      "updated max sum 6\n",
      "6 7 -4\n",
      "updated max sum 6\n",
      "6 8 0\n",
      "updated max sum 6\n",
      "7 0\n",
      "7 7 -5\n",
      "updated max sum 6\n",
      "7 8 -1\n",
      "updated max sum 6\n",
      "8 0\n",
      "8 8 4\n",
      "updated max sum 6\n"
     ]
    },
    {
     "data": {
      "text/plain": [
       "6"
      ]
     },
     "execution_count": 61,
     "metadata": {},
     "output_type": "execute_result"
    }
   ],
   "source": [
    "A= [-2,1,-3,4,-1,2,1,-5,4]\n",
    "maxSubarr(A)"
   ]
  },
  {
   "cell_type": "markdown",
   "metadata": {},
   "source": [
    "# Kadane's Algorithm "
   ]
  },
  {
   "cell_type": "code",
   "execution_count": 56,
   "metadata": {},
   "outputs": [],
   "source": [
    "def MaxSubarray(A):\n",
    "    \n",
    "    n = len(A)\n",
    "    max_sum = A[0]\n",
    "    curr_sum =A[0]\n",
    "    \n",
    "    for i in range(1,n):\n",
    "        \n",
    "        curr_sum = max(curr_sum+A[i],A[i])\n",
    "        max_sum = max(curr_sum,max_sum)\n",
    "    return max_sum\n",
    "    \n",
    "        "
   ]
  },
  {
   "cell_type": "code",
   "execution_count": 59,
   "metadata": {},
   "outputs": [
    {
     "data": {
      "text/plain": [
       "10"
      ]
     },
     "execution_count": 59,
     "metadata": {},
     "output_type": "execute_result"
    }
   ],
   "source": [
    "Arr= [-2,1,-3,4,-1,2,1,-5,4]\n",
    "Arr2=[-1,-2,1,2,3,-5,4,5]\n",
    "MaxSubarray(Arr2)"
   ]
  }
 ],
 "metadata": {
  "kernelspec": {
   "display_name": "Python 3",
   "language": "python",
   "name": "python3"
  },
  "language_info": {
   "codemirror_mode": {
    "name": "ipython",
    "version": 3
   },
   "file_extension": ".py",
   "mimetype": "text/x-python",
   "name": "python",
   "nbconvert_exporter": "python",
   "pygments_lexer": "ipython3",
   "version": "3.7.3"
  }
 },
 "nbformat": 4,
 "nbformat_minor": 2
}
